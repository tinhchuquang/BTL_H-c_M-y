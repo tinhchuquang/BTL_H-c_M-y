{
 "cells": [
  {
   "cell_type": "code",
   "execution_count": 2,
   "metadata": {},
   "outputs": [
    {
     "name": "stdout",
     "output_type": "stream",
     "text": [
      "11200 11200\n",
      "4800 4800\n"
     ]
    }
   ],
   "source": [
    "import csv \n",
    "# java-0,javascrip-1,c#-2,php-3,android-4,jquery-5,c++-6,python-7,iphone-8,asp.net-9\n",
    "def load_data(path):\n",
    "    data_train = []\n",
    "    label_train = []\n",
    "    data_test = []\n",
    "    label_test = []\n",
    "    count=[0,0,0,0,0,0,0,0,0,0]\n",
    "    with open(path) as in_file:\n",
    "        reader = csv.DictReader(in_file)\n",
    "        for row in reader:\n",
    "            if 'java' in row['Tags']:\n",
    "                if 'javascrip' not in row['Tags']:\n",
    "                    if count[0] >1399   and count[0] < 2000:\n",
    "                        data_test.append(row['Title'])\n",
    "                        label_test.append(row['Tags'])\n",
    "                        count[0] += 1\n",
    "                    if count[0] < 1400:\n",
    "                        data_train.append(row['Title'])\n",
    "                        label_train.append(row['Tags'])\n",
    "                        count[0] += 1\n",
    "                else:\n",
    "                    if count[1] > 1399 and count[1] < 2000:\n",
    "                        data_test.append(row['Title'])\n",
    "                        label_test.append(row['Tags'])\n",
    "                        count[1] += 1\n",
    "                    if count[1] < 1400:\n",
    "                        data_train.append(row['Title'])\n",
    "                        label_train.append(row['Tags'])\n",
    "                        count[1] += 1\n",
    "            elif 'c#' in row['Tags']:\n",
    "                if count[2] > 1399 and count[2] < 2000:\n",
    "                    data_test.append(row['Title'])\n",
    "                    label_test.append(row['Tags'])\n",
    "                    count[2] += 1\n",
    "                if count[2] < 1400:\n",
    "                    data_train.append(row['Title'])\n",
    "                    label_train.append(row['Tags'])\n",
    "                    count[2] += 1\n",
    "            elif 'php' in row['Tags']:\n",
    "                if count[3] > 1399 and count[3] < 2000:\n",
    "                    data_test.append(row['Title'])\n",
    "                    label_test.append(row['Tags'])\n",
    "                    count[3] += 1\n",
    "                if count[3] < 1400:\n",
    "                    data_train.append(row['Title'])\n",
    "                    label_train.append(row['Tags'])\n",
    "                    count[3] += 1\n",
    "            elif 'android' in row['Tags']:\n",
    "                if count[4] > 1399 and count[4] < 2000:\n",
    "                    data_test.append(row['Title'])\n",
    "                    label_test.append(row['Tags'])\n",
    "                    count[4] += 1\n",
    "                if count[4] < 1400:\n",
    "                    data_train.append(row['Title'])\n",
    "                    label_train.append(row['Tags'])\n",
    "                    count[4] += 1\n",
    "            elif 'jquery' in row['Tags']:\n",
    "                if count[5] > 1399 and count[5] < 2000:\n",
    "                    data_test.append(row['Title'])\n",
    "                    label_test.append(row['Tags'])\n",
    "                    count[5] += 1\n",
    "                if count[5] < 1400:\n",
    "                    data_train.append(row['Title'])\n",
    "                    label_train.append(row['Tags'])\n",
    "                    count[5] += 1\n",
    "            elif 'c++' in row['Tags']:\n",
    "                if count[6] > 699 and count[6] < 1000:\n",
    "                    data_test.append(row['Title'])\n",
    "                    label_test.append(row['Tags'])\n",
    "                    count[6] += 1\n",
    "                if count[6] < 700:\n",
    "                    data_train.append(row['Title'])\n",
    "                    label_train.append(row['Tags'])\n",
    "                    count[6] += 1\n",
    "            elif 'python' in row['Tags']:\n",
    "                if count[7] > 699 and count[7] < 1000:\n",
    "                    data_test.append(row['Title'])\n",
    "                    label_test.append(row['Tags'])\n",
    "                    count[7] += 1\n",
    "                if count[7] < 700:\n",
    "                    data_train.append(row['Title'])\n",
    "                    label_train.append(row['Tags'])\n",
    "                    count[7] += 1\n",
    "            elif 'iphone' in row['Tags']:\n",
    "                if count[8] > 699 and count[8] < 1000:\n",
    "                    data_test.append(row['Title'])\n",
    "                    label_test.append(row['Tags'])\n",
    "                    count[8] += 1\n",
    "                if count[8] < 700:\n",
    "                    data_train.append(row['Title'])\n",
    "                    label_train.append(row['Tags'])\n",
    "                    count[8] += 1\n",
    "            elif 'asp.net' in row['Tags']:\n",
    "                if count[9] > 699 and count[9] < 1000:\n",
    "                    data_test.append(row['Title'])\n",
    "                    label_test.append(row['Tags'])\n",
    "                    count[9] += 1\n",
    "                if count[9] < 700:\n",
    "                    data_train.append(row['Title'])\n",
    "                    label_train.append(row['Tags'])\n",
    "                    count[9] += 1\n",
    "    return data_train, label_train, data_test, label_test\n",
    "\n",
    "(data_train, label_train, data_test, label_test) = load_data(\"Train_Title.csv\")\n",
    "print(len(data_train), len(label_train))\n",
    "print(len(data_test),len(label_test))"
   ]
  },
  {
   "cell_type": "code",
   "execution_count": 3,
   "metadata": {
    "collapsed": true
   },
   "outputs": [],
   "source": [
    "def count_element(begin, end, token):\n",
    "    k = 0\n",
    "    for i in range(begin, end):\n",
    "        if token in label_new_test[i]:\n",
    "            k+= 1\n",
    "    return k\n",
    "\n",
    "def count_java(begin, end):\n",
    "    k = 0\n",
    "    for i in range(begin, end):\n",
    "        if 'java' in label_new_test[i]:\n",
    "            if 'javascrip' not in label_new_test[i]:\n",
    "                k+= 1\n",
    "    return k\n"
   ]
  },
  {
   "cell_type": "code",
   "execution_count": 4,
   "metadata": {},
   "outputs": [
    {
     "name": "stdout",
     "output_type": "stream",
     "text": [
      "(11200, 7912)\n"
     ]
    }
   ],
   "source": [
    "from sklearn.feature_extraction.text import CountVectorizer\n",
    "count_vect = CountVectorizer(stop_words=\"english\", lowercase=True)\n",
    "data_train_count = count_vect.fit_transform(data_train)\n",
    "print(data_train_count.shape)"
   ]
  },
  {
   "cell_type": "code",
   "execution_count": 5,
   "metadata": {},
   "outputs": [
    {
     "name": "stdout",
     "output_type": "stream",
     "text": [
      "(11200, 7912)\n"
     ]
    }
   ],
   "source": [
    "from sklearn.feature_extraction.text import TfidfTransformer\n",
    "tfidf_tranformer = TfidfTransformer(norm='l2')\n",
    "data_train_tfidf = tfidf_tranformer.fit_transform(data_train_count)\n",
    "print(data_train_tfidf.shape)"
   ]
  },
  {
   "cell_type": "code",
   "execution_count": 6,
   "metadata": {},
   "outputs": [
    {
     "name": "stdout",
     "output_type": "stream",
     "text": [
      "(4800, 7912)\n"
     ]
    }
   ],
   "source": [
    "import numpy as np\n",
    "data_test_counts = count_vect.transform(data_test)\n",
    "data_test_tfidf = tfidf_tranformer.transform(data_test_counts)\n",
    "print(data_test_tfidf.shape)"
   ]
  },
  {
   "cell_type": "code",
   "execution_count": 7,
   "metadata": {},
   "outputs": [
    {
     "name": "stdout",
     "output_type": "stream",
     "text": [
      "0.359583333333\n"
     ]
    }
   ],
   "source": [
    "from sklearn.neighbors import KNeighborsClassifier\n",
    "neigh = KNeighborsClassifier(n_neighbors=5, weights='distance', algorithm='auto')\n",
    "neigh.fit(data_train_tfidf, label_train)\n",
    "label_new_test = neigh.predict(data_test_tfidf)\n",
    "print(np.mean(label_new_test ==  label_test))"
   ]
  },
  {
   "cell_type": "code",
   "execution_count": 19,
   "metadata": {},
   "outputs": [
    {
     "data": {
      "image/png": "[encoded data removed]",
      "text/plain": [
       "<matplotlib.figure.Figure at 0x7fe1853fddd8>"
      ]
     },
     "metadata": {},
     "output_type": "display_data"
    }
   ],
   "source": [
    "import matplotlib.pyplot as plt\n",
    "\n",
    "def graph(data_X, data_Y, x_label, y_label):\n",
    "    plt.plot(data_X, data_Y, 'r-')\n",
    "    plt.ylabel(y_label)\n",
    "    plt.xlabel(x_label)\n",
    "    plt.show()  \n",
    "\n",
    "\n",
    "def find_paramater_KNN(n_neighbors_, weights_):\n",
    "    neigh = KNeighborsClassifier(n_neighbors=n_neighbors_, weights=weights_, algorithm='auto')\n",
    "    neigh.fit(data_train_tfidf, label_train)\n",
    "    label_new_test = neigh.predict(data_test_tfidf)\n",
    "    return (np.mean(label_new_test ==  label_test))\n",
    "\n",
    "n_neighbors = []\n",
    "loss_n_neighbors = []\n",
    "n_neighbors_ = 3\n",
    "for i in range(1000):\n",
    "    loss_n_neighbors.append(find_paramater_KNN(n_neighbors_, 'distance'))\n",
    "    n_neighbors.append(n_neighbors_)\n",
    "    n_neighbors_ += 1\n",
    "\n",
    "graph(n_neighbors, loss_n_neighbors, 'n_neighbors' , '%accurate')"
   ]
  },
  {
   "cell_type": "code",
   "execution_count": 24,
   "metadata": {},
   "outputs": [
    {
     "data": {
      "image/png": "[encoded data removed]",
      "text/plain": [
       "<matplotlib.figure.Figure at 0x7fe18567e780>"
      ]
     },
     "metadata": {},
     "output_type": "display_data"
    }
   ],
   "source": [
    "n_neighbors = []\n",
    "loss_n_neighbors = []\n",
    "n_neighbors_ = 75\n",
    "for i in range(5):\n",
    "    loss_n_neighbors.append(find_paramater_KNN(n_neighbors_, 'distance'))\n",
    "    n_neighbors.append(n_neighbors_)\n",
    "    n_neighbors_ += 1\n",
    "\n",
    "graph(n_neighbors, loss_n_neighbors, 'n_neighbors' , '%accurate')"
   ]
  },
  {
   "cell_type": "code",
   "execution_count": null,
   "metadata": {
    "collapsed": true
   },
   "outputs": [],
   "source": []
  }
 ],
 "metadata": {
  "kernelspec": {
   "display_name": "Python 3",
   "language": "python",
   "name": "python3"
  },
  "language_info": {
   "codemirror_mode": {
    "name": "ipython",
    "version": 3
   },
   "file_extension": ".py",
   "mimetype": "text/x-python",
   "name": "python",
   "nbconvert_exporter": "python",
   "pygments_lexer": "ipython3",
   "version": "3.6.2"
  }
 },
 "nbformat": 4,
 "nbformat_minor": 2
}
