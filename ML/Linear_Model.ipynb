{
 "cells": [
  {
   "cell_type": "code",
   "execution_count": 1,
   "metadata": {},
   "outputs": [
    {
     "name": "stdout",
     "output_type": "stream",
     "text": [
      "112000 112000\n",
      "48000 48000\n"
     ]
    }
   ],
   "source": [
    "import csv \n",
    "# java-0,javascrip-1,c#-2,php-3,android-4,jquery-5,c++-6,python-7,iphone-8,asp.net-9\n",
    "def load_data(path):\n",
    "    data_train = []\n",
    "    label_train = []\n",
    "    data_test = []\n",
    "    label_test = []\n",
    "    count=[0,0,0,0,0,0,0,0,0,0]\n",
    "    with open(path) as in_file:\n",
    "        reader = csv.DictReader(in_file)\n",
    "        for row in reader:\n",
    "            if 'java' in row['Tags']:\n",
    "                if 'javascrip' not in row['Tags']:\n",
    "                    if count[0] >13999   and count[0] < 20000:\n",
    "                        data_test.append(row['Title'])\n",
    "                        label_test.append(row['Tags'])\n",
    "                        count[0] += 1\n",
    "                    if count[0] < 14000:\n",
    "                        data_train.append(row['Title'])\n",
    "                        label_train.append(row['Tags'])\n",
    "                        count[0] += 1\n",
    "                else:\n",
    "                    if count[1] > 13999 and count[1] < 20000:\n",
    "                        data_test.append(row['Title'])\n",
    "                        label_test.append(row['Tags'])\n",
    "                        count[1] += 1\n",
    "                    if count[1] < 14000:\n",
    "                        data_train.append(row['Title'])\n",
    "                        label_train.append(row['Tags'])\n",
    "                        count[1] += 1\n",
    "            elif 'c#' in row['Tags']:\n",
    "                if count[2] > 13999 and count[2] < 20000:\n",
    "                    data_test.append(row['Title'])\n",
    "                    label_test.append(row['Tags'])\n",
    "                    count[2] += 1\n",
    "                if count[2] < 14000:\n",
    "                    data_train.append(row['Title'])\n",
    "                    label_train.append(row['Tags'])\n",
    "                    count[2] += 1\n",
    "            elif 'php' in row['Tags']:\n",
    "                if count[3] > 13999 and count[3] < 20000:\n",
    "                    data_test.append(row['Title'])\n",
    "                    label_test.append(row['Tags'])\n",
    "                    count[3] += 1\n",
    "                if count[3] < 14000:\n",
    "                    data_train.append(row['Title'])\n",
    "                    label_train.append(row['Tags'])\n",
    "                    count[3] += 1\n",
    "            elif 'android' in row['Tags']:\n",
    "                if count[4] > 13999 and count[4] < 20000:\n",
    "                    data_test.append(row['Title'])\n",
    "                    label_test.append(row['Tags'])\n",
    "                    count[4] += 1\n",
    "                if count[4] < 14000:\n",
    "                    data_train.append(row['Title'])\n",
    "                    label_train.append(row['Tags'])\n",
    "                    count[4] += 1\n",
    "            elif 'jquery' in row['Tags']:\n",
    "                if count[5] > 13999 and count[5] < 20000:\n",
    "                    data_test.append(row['Title'])\n",
    "                    label_test.append(row['Tags'])\n",
    "                    count[5] += 1\n",
    "                if count[5] < 14000:\n",
    "                    data_train.append(row['Title'])\n",
    "                    label_train.append(row['Tags'])\n",
    "                    count[5] += 1\n",
    "            elif 'c++' in row['Tags']:\n",
    "                if count[6] > 6999 and count[6] < 10000:\n",
    "                    data_test.append(row['Title'])\n",
    "                    label_test.append(row['Tags'])\n",
    "                    count[6] += 1\n",
    "                if count[6] < 7000:\n",
    "                    data_train.append(row['Title'])\n",
    "                    label_train.append(row['Tags'])\n",
    "                    count[6] += 1\n",
    "            elif 'python' in row['Tags']:\n",
    "                if count[7] > 6999 and count[7] < 10000:\n",
    "                    data_test.append(row['Title'])\n",
    "                    label_test.append(row['Tags'])\n",
    "                    count[7] += 1\n",
    "                if count[7] < 7000:\n",
    "                    data_train.append(row['Title'])\n",
    "                    label_train.append(row['Tags'])\n",
    "                    count[7] += 1\n",
    "            elif 'iphone' in row['Tags']:\n",
    "                if count[8] > 6999 and count[8] < 10000:\n",
    "                    data_test.append(row['Title'])\n",
    "                    label_test.append(row['Tags'])\n",
    "                    count[8] += 1\n",
    "                if count[8] < 7000:\n",
    "                    data_train.append(row['Title'])\n",
    "                    label_train.append(row['Tags'])\n",
    "                    count[8] += 1\n",
    "            elif 'asp.net' in row['Tags']:\n",
    "                if count[9] > 6999 and count[9] < 10000:\n",
    "                    data_test.append(row['Title'])\n",
    "                    label_test.append(row['Tags'])\n",
    "                    count[9] += 1\n",
    "                if count[9] < 7000:\n",
    "                    data_train.append(row['Title'])\n",
    "                    label_train.append(row['Tags'])\n",
    "                    count[9] += 1\n",
    "    return data_train, label_train, data_test, label_test\n",
    "\n",
    "(data_train, label_train, data_test, label_test) = load_data(\"Train_Title.csv\")\n",
    "print(len(data_train), len(label_train))\n",
    "print(len(data_test),len(label_test))"
   ]
  },
  {
   "cell_type": "code",
   "execution_count": 2,
   "metadata": {
    "collapsed": true
   },
   "outputs": [],
   "source": [
    "def count_element(begin, end, token):\n",
    "    k = 0\n",
    "    for i in range(begin, end):\n",
    "        if token in label_new_test[i]:\n",
    "            k+= 1\n",
    "    return k\n",
    "\n",
    "def count_java(begin, end):\n",
    "    k =0\n",
    "    for i in range(begin, end):\n",
    "        if 'java' in label_new_test[i]:\n",
    "            if 'javascrip' not in label_new_test[i]:\n",
    "                k+=1\n",
    "    return k"
   ]
  },
  {
   "cell_type": "code",
   "execution_count": 3,
   "metadata": {},
   "outputs": [
    {
     "name": "stdout",
     "output_type": "stream",
     "text": [
      "1 c++\n",
      "\n",
      "2 php\n",
      "\n",
      "3 javascrip\n",
      "\n",
      "4 java\n",
      "\n",
      "5 android\n",
      "\n",
      "6 jquery\n",
      "\n",
      "7 c#\n",
      "\n",
      "8 python\n",
      "\n",
      "9 iphone\n",
      "\n",
      "10 asp.net\n",
      "\n"
     ]
    }
   ],
   "source": [
    "print(\"1 \"+label_test[0])\n",
    "print(\"2 \"+ label_test[3000])\n",
    "print(\"3 \"+label_test[9000])\n",
    "print(\"4 \"+label_test[15000])\n",
    "print(\"5 \"+label_test[21000])\n",
    "print(\"6 \"+label_test[27000])\n",
    "print(\"7 \"+label_test[33000])\n",
    "print(\"8 \"+label_test[39000])\n",
    "print(\"9 \"+label_test[42000])\n",
    "print(\"10 \"+label_test[45000])"
   ]
  },
  {
   "cell_type": "code",
   "execution_count": 4,
   "metadata": {},
   "outputs": [
    {
     "name": "stdout",
     "output_type": "stream",
     "text": [
      "(112000, 30222)\n"
     ]
    }
   ],
   "source": [
    "from sklearn.feature_extraction.text import CountVectorizer\n",
    "count_vect = CountVectorizer(stop_words=\"english\", lowercase=True)\n",
    "data_train_count = count_vect.fit_transform(data_train)\n",
    "print(data_train_count.shape)"
   ]
  },
  {
   "cell_type": "code",
   "execution_count": 5,
   "metadata": {},
   "outputs": [
    {
     "name": "stdout",
     "output_type": "stream",
     "text": [
      "(112000, 30222)\n"
     ]
    }
   ],
   "source": [
    "from sklearn.feature_extraction.text import TfidfTransformer\n",
    "tfidf_tranformer = TfidfTransformer(norm='l2')\n",
    "data_train_tfidf = tfidf_tranformer.fit_transform(data_train_count)\n",
    "print(data_train_tfidf.shape)\n"
   ]
  },
  {
   "cell_type": "code",
   "execution_count": 6,
   "metadata": {},
   "outputs": [
    {
     "name": "stdout",
     "output_type": "stream",
     "text": [
      "(48000, 30222)\n"
     ]
    }
   ],
   "source": [
    "import numpy as np\n",
    "data_test_counts = count_vect.transform(data_test)\n",
    "data_test_tfidf = tfidf_tranformer.transform(data_test_counts)\n",
    "print(data_test_tfidf.shape)"
   ]
  },
  {
   "cell_type": "code",
   "execution_count": 7,
   "metadata": {},
   "outputs": [
    {
     "name": "stdout",
     "output_type": "stream",
     "text": [
      "0.521104166667\n"
     ]
    }
   ],
   "source": [
    "from sklearn.naive_bayes import MultinomialNB\n",
    "clf = MultinomialNB().fit(data_train_tfidf, label_train)\n",
    "label_new_test= clf.predict(data_test_tfidf)\n",
    "print(np.mean(label_new_test == label_test))"
   ]
  },
  {
   "cell_type": "code",
   "execution_count": 8,
   "metadata": {},
   "outputs": [],
   "source": [
    "c_plus_plus = count_element(0, 3000, 'c++')\n",
    "php = count_element(3000, 9000, 'php')\n",
    "javascrip = count_element(9000, 15000, 'javascrip')\n",
    "java = count_java(15000, 21000)\n",
    "android = count_element(21000, 27000, 'android')\n",
    "jquery = count_element(27000, 33000, 'jquery')\n",
    "c_sharp = count_element(33000, 39000, 'c#')\n",
    "python = count_element(39000, 42000, 'python')\n",
    "iphone = count_element(42000, 45000, 'iphone')\n",
    "asp_net = count_element(45000, 48000, 'asp.net')\n",
    "Y_NB = np.array([c_plus_plus/3000, php/6000, javascrip/6000, java/6000, android/6000, jquery/6000, python/3000, iphone/3000, asp_net/3000])\n"
   ]
  },
  {
   "cell_type": "code",
   "execution_count": 9,
   "metadata": {},
   "outputs": [
    {
     "name": "stderr",
     "output_type": "stream",
     "text": [
      "/home/robot/anaconda3/lib/python3.6/site-packages/sklearn/linear_model/stochastic_gradient.py:84: FutureWarning: max_iter and tol parameters have been added in <class 'sklearn.linear_model.stochastic_gradient.SGDClassifier'> in 0.19. If both are left unset, they default to max_iter=5 and tol=None. If tol is not None, max_iter defaults to max_iter=1000. From 0.21, default max_iter will be 1000, and default tol will be 1e-3.\n",
      "  \"and default tol will be 1e-3.\" % type(self), FutureWarning)\n"
     ]
    },
    {
     "name": "stdout",
     "output_type": "stream",
     "text": [
      "0.508604166667\n"
     ]
    }
   ],
   "source": [
    "from sklearn.pipeline import Pipeline\n",
    "from sklearn.linear_model import SGDClassifier\n",
    "text_clf = Pipeline([('vect', CountVectorizer()), \n",
    "                     ('tfidf', TfidfTransformer()),\n",
    "                     ('clf', SGDClassifier(loss='hinge', penalty='l2', alpha=1e-15,shuffle=True, random_state=200))])\n",
    "\n",
    "text_clf.fit(data_train, label_train)\n",
    "label_new_test = text_clf.predict(data_test)\n",
    "print(np.mean(label_new_test == label_test))"
   ]
  },
  {
   "cell_type": "code",
   "execution_count": 10,
   "metadata": {},
   "outputs": [
    {
     "name": "stderr",
     "output_type": "stream",
     "text": [
      "/home/robot/anaconda3/lib/python3.6/site-packages/sklearn/linear_model/stochastic_gradient.py:84: FutureWarning: max_iter and tol parameters have been added in <class 'sklearn.linear_model.stochastic_gradient.SGDClassifier'> in 0.19. If both are left unset, they default to max_iter=5 and tol=None. If tol is not None, max_iter defaults to max_iter=1000. From 0.21, default max_iter will be 1000, and default tol will be 1e-3.\n",
      "  \"and default tol will be 1e-3.\" % type(self), FutureWarning)\n"
     ]
    },
    {
     "name": "stdout",
     "output_type": "stream",
     "text": [
      "0.579270833333\n"
     ]
    }
   ],
   "source": [
    "from sklearn import linear_model\n",
    "clf = linear_model.SGDClassifier(loss='hinge', penalty='l2', alpha=0, shuffle=True, random_state=300, learning_rate='constant', eta0=0.12)\n",
    "clf.fit(data_train_tfidf, label_train)\n",
    "label_new_test= clf.predict(data_test_tfidf)\n",
    "print(np.mean(label_new_test == label_test))"
   ]
  },
  {
   "cell_type": "code",
   "execution_count": 11,
   "metadata": {},
   "outputs": [
    {
     "name": "stdout",
     "output_type": "stream",
     "text": [
      "[-0.9996 -1.1388 -0.9336 -1.0068 -1.0176 -0.9264 -1.1448 -1.164  -1.104\n",
      " -1.0044]\n"
     ]
    }
   ],
   "source": [
    "print(clf.intercept_)"
   ]
  },
  {
   "cell_type": "code",
   "execution_count": 12,
   "metadata": {},
   "outputs": [
    {
     "name": "stderr",
     "output_type": "stream",
     "text": [
      "/home/robot/anaconda3/lib/python3.6/site-packages/sklearn/linear_model/stochastic_gradient.py:84: FutureWarning: max_iter and tol parameters have been added in <class 'sklearn.linear_model.stochastic_gradient.SGDClassifier'> in 0.19. If both are left unset, they default to max_iter=5 and tol=None. If tol is not None, max_iter defaults to max_iter=1000. From 0.21, default max_iter will be 1000, and default tol will be 1e-3.\n",
      "  \"and default tol will be 1e-3.\" % type(self), FutureWarning)\n"
     ]
    },
    {
     "data": {
      "image/png": "[encoded data removed]",
      "text/plain": [
       "<matplotlib.figure.Figure at 0x7f899e0731d0>"
      ]
     },
     "metadata": {},
     "output_type": "display_data"
    }
   ],
   "source": [
    "import matplotlib.pyplot as plt\n",
    "\n",
    "def find_parameters(alpha_, eta_, random_state_):\n",
    "    clf = linear_model.SGDClassifier(loss='hinge', penalty='l2', alpha=alpha_, shuffle=True, random_state=random_state_, learning_rate='constant', eta0=eta_)\n",
    "    clf.fit(data_train_tfidf, label_train)\n",
    "    label_new_test= clf.predict(data_test_tfidf)\n",
    "    return (np.mean(label_new_test == label_test))\n",
    "\n",
    "alpha=[]\n",
    "loss_alpha=[]\n",
    "alpha.append(0)\n",
    "loss_alpha.append(find_parameters(0.0, 0.12, 300))\n",
    "alpha_ = 1e-15\n",
    "for i in range(15):\n",
    "    loss_alpha.append(find_parameters(alpha_, 0.12, 300))\n",
    "    alpha.append(alpha_)\n",
    "    alpha_ = alpha_*10\n",
    "\n",
    "plt.plot(alpha, loss_alpha, 'r-')\n",
    "plt.ylabel('%accurate')\n",
    "plt.xlabel('alpha')\n",
    "plt.show()\n"
   ]
  },
  {
   "cell_type": "code",
   "execution_count": 13,
   "metadata": {},
   "outputs": [
    {
     "name": "stderr",
     "output_type": "stream",
     "text": [
      "/home/robot/anaconda3/lib/python3.6/site-packages/sklearn/linear_model/stochastic_gradient.py:84: FutureWarning: max_iter and tol parameters have been added in <class 'sklearn.linear_model.stochastic_gradient.SGDClassifier'> in 0.19. If both are left unset, they default to max_iter=5 and tol=None. If tol is not None, max_iter defaults to max_iter=1000. From 0.21, default max_iter will be 1000, and default tol will be 1e-3.\n",
      "  \"and default tol will be 1e-3.\" % type(self), FutureWarning)\n"
     ]
    },
    {
     "data": {
      "image/png": "[encoded data removed]",
      "text/plain": [
       "<matplotlib.figure.Figure at 0x7f898fc87908>"
      ]
     },
     "metadata": {},
     "output_type": "display_data"
    }
   ],
   "source": [
    "eta=[]\n",
    "loss_eta=[]\n",
    "eta_ = 0.01\n",
    "for i in range(100):\n",
    "    loss_eta.append(find_parameters(0, eta_, 300))\n",
    "    eta.append(eta_)\n",
    "    eta_ += 0.01\n",
    "\n",
    "plt.plot(eta, loss_eta, 'r-')\n",
    "plt.ylabel('%accurate')\n",
    "plt.xlabel('eta')\n",
    "plt.show()"
   ]
  },
  {
   "cell_type": "code",
   "execution_count": 14,
   "metadata": {},
   "outputs": [
    {
     "name": "stderr",
     "output_type": "stream",
     "text": [
      "/home/robot/anaconda3/lib/python3.6/site-packages/sklearn/linear_model/stochastic_gradient.py:84: FutureWarning: max_iter and tol parameters have been added in <class 'sklearn.linear_model.stochastic_gradient.SGDClassifier'> in 0.19. If both are left unset, they default to max_iter=5 and tol=None. If tol is not None, max_iter defaults to max_iter=1000. From 0.21, default max_iter will be 1000, and default tol will be 1e-3.\n",
      "  \"and default tol will be 1e-3.\" % type(self), FutureWarning)\n"
     ]
    },
    {
     "data": {
      "image/png": "[encoded data removed]",
      "text/plain": [
       "<matplotlib.figure.Figure at 0x7f898fbc82e8>"
      ]
     },
     "metadata": {},
     "output_type": "display_data"
    }
   ],
   "source": [
    "import timeit \n",
    "eta=[]\n",
    "time_eta=[]\n",
    "eta_ = 0.01\n",
    "for i in range(100):\n",
    "    start= timeit.default_timer()\n",
    "    find_parameters(0, eta_, 300)\n",
    "    stop= timeit.default_timer()\n",
    "    time_eta.append((stop-start))\n",
    "    eta.append(eta_)\n",
    "    eta_ += 0.01\n",
    "\n",
    "plt.plot(eta, time_eta, 'r-')\n",
    "plt.ylabel('time')\n",
    "plt.xlabel('eta')\n",
    "plt.show()"
   ]
  },
  {
   "cell_type": "code",
   "execution_count": 15,
   "metadata": {},
   "outputs": [
    {
     "name": "stderr",
     "output_type": "stream",
     "text": [
      "/home/robot/anaconda3/lib/python3.6/site-packages/sklearn/linear_model/stochastic_gradient.py:84: FutureWarning: max_iter and tol parameters have been added in <class 'sklearn.linear_model.stochastic_gradient.SGDClassifier'> in 0.19. If both are left unset, they default to max_iter=5 and tol=None. If tol is not None, max_iter defaults to max_iter=1000. From 0.21, default max_iter will be 1000, and default tol will be 1e-3.\n",
      "  \"and default tol will be 1e-3.\" % type(self), FutureWarning)\n"
     ]
    },
    {
     "data": {
      "image/png": "[encoded data removed]",
      "text/plain": [
       "<matplotlib.figure.Figure at 0x7f898fd0e9e8>"
      ]
     },
     "metadata": {},
     "output_type": "display_data"
    }
   ],
   "source": [
    "random_state=[]\n",
    "loss_random_state=[]\n",
    "random_state_ = 50\n",
    "for i in range(20):\n",
    "    loss_random_state.append(find_parameters(0, 0.12, random_state_))\n",
    "    random_state.append(random_state_)\n",
    "    random_state_ += 50\n",
    "\n",
    "plt.plot(random_state, loss_random_state, 'r-')\n",
    "plt.ylabel('%accurate')\n",
    "plt.xlabel('random_state')\n",
    "plt.show()"
   ]
  },
  {
   "cell_type": "code",
   "execution_count": 16,
   "metadata": {},
   "outputs": [
    {
     "name": "stderr",
     "output_type": "stream",
     "text": [
      "/home/robot/anaconda3/lib/python3.6/site-packages/sklearn/linear_model/stochastic_gradient.py:84: FutureWarning: max_iter and tol parameters have been added in <class 'sklearn.linear_model.stochastic_gradient.SGDClassifier'> in 0.19. If both are left unset, they default to max_iter=5 and tol=None. If tol is not None, max_iter defaults to max_iter=1000. From 0.21, default max_iter will be 1000, and default tol will be 1e-3.\n",
      "  \"and default tol will be 1e-3.\" % type(self), FutureWarning)\n"
     ]
    }
   ],
   "source": [
    "find_parameters(0, 0.12, 300)\n",
    "c_plus_plus = count_element(0, 3000, 'c++')\n",
    "php = count_element(3000, 9000, 'php')\n",
    "javascrip = count_element(9000, 15000, 'javascrip')\n",
    "java = count_java(15000, 21000)\n",
    "android = count_element(21000, 27000, 'android')\n",
    "jquery = count_element(27000, 33000, 'jquery')\n",
    "c_sharp = count_element(33000, 39000, 'c#')\n",
    "python = count_element(39000, 42000, 'python')\n",
    "iphone = count_element(42000, 45000, 'iphone')\n",
    "asp_net = count_element(45000, 48000, 'asp.net')\n",
    "\n",
    "Y_SGD = np.array([c_plus_plus/3000, php/6000, javascrip/6000, java/6000, android/6000, jquery/6000, python/3000, iphone/3000, asp_net/3000])\n"
   ]
  },
  {
   "cell_type": "code",
   "execution_count": 17,
   "metadata": {},
   "outputs": [
    {
     "name": "stdout",
     "output_type": "stream",
     "text": [
      "High five! You successfully sent some data to your account on plotly. View your plot in your browser at https://plot.ly/~TinhChuQuang/0 or inside your plot.ly account where it is named 'grouped-bar'\n"
     ]
    },
    {
     "data": {
      "text/html": [
       "<iframe id=\"igraph\" scrolling=\"no\" style=\"border:none;\" seamless=\"seamless\" src=\"https://plot.ly/~TinhChuQuang/0.embed\" height=\"525px\" width=\"100%\"></iframe>"
      ],
      "text/plain": [
       "<plotly.tools.PlotlyDisplay object>"
      ]
     },
     "execution_count": 17,
     "metadata": {},
     "output_type": "execute_result"
    }
   ],
   "source": [
    "import plotly\n",
    "import plotly.plotly as py\n",
    "import plotly.graph_objs as go\n",
    "# plotly.tools.set_credentials_file(usename='DemoAccount',apt_key='lr1c37zw81')\n",
    "X = ['c++', 'php', 'javascrip', 'java', 'android', 'jquery', 'c#', 'python', 'iphone', 'asp.net']\n",
    "\n",
    "trace1 = go.Bar(\n",
    "    x = X,\n",
    "    y = Y_NB,\n",
    "    name = 'NB'\n",
    ")\n",
    "\n",
    "trace2 = go.Bar(\n",
    "    x = X,\n",
    "    y = Y_SGD,\n",
    "    name = 'SGD'\n",
    ")\n",
    "\n",
    "data = [trace1, trace2]\n",
    "layout = go.Layout(\n",
    "    barmode='group'\n",
    ")\n",
    "\n",
    "fig = go.Figure(data = data, layout=layout)\n",
    "py.iplot(fig, filename='grouped-bar')"
   ]
  },
  {
   "cell_type": "code",
   "execution_count": null,
   "metadata": {
    "collapsed": true
   },
   "outputs": [],
   "source": []
  }
 ],
 "metadata": {
  "kernelspec": {
   "display_name": "Python 3",
   "language": "python",
   "name": "python3"
  },
  "language_info": {
   "codemirror_mode": {
    "name": "ipython",
    "version": 3
   },
   "file_extension": ".py",
   "mimetype": "text/x-python",
   "name": "python",
   "nbconvert_exporter": "python",
   "pygments_lexer": "ipython3",
   "version": "3.6.2"
  }
 },
 "nbformat": 4,
 "nbformat_minor": 2
}
