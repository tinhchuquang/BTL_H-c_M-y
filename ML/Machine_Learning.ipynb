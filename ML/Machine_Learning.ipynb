{
 "cells": [
  {
   "cell_type": "code",
   "execution_count": 9,
   "metadata": {},
   "outputs": [
    {
     "name": "stdout",
     "output_type": "stream",
     "text": [
      "300000 300000\n",
      "50000 50000\n"
     ]
    }
   ],
   "source": [
    "import csv \n",
    "# java-0,javascrip-1,c#-2,php-3,android-4,jquery-5,c++-6,python-7,iphone-8,asp.net-9\n",
    "def load_data(path, max_train, max_test):\n",
    "    data_train = []\n",
    "    label_train = []\n",
    "    data_test = []\n",
    "    label_test = []\n",
    "    count=[0,0,0,0,0,0,0,0,0,0,0]\n",
    "    with open(path) as in_file:\n",
    "        reader = csv.DictReader(in_file)\n",
    "        for row in reader:\n",
    "            if 'java' in row['Tags']:\n",
    "                if 'javascrip' not in row['Tags']:\n",
    "                    if count[0] > (max_train-1)  and count[0] < max_test:\n",
    "                        data_test.append(row['Title'])\n",
    "                        label_test.append(row['Tags'])\n",
    "                        count[0] += 1\n",
    "                    if count[0] < max_train:\n",
    "                        data_train.append(row['Title'])\n",
    "                        label_train.append(row['Tags'])\n",
    "                        count[0] += 1\n",
    "                else:\n",
    "                    if count[1] > (max_train-1) and count[1] < max_test:\n",
    "                        data_test.append(row['Title'])\n",
    "                        label_test.append(row['Tags'])\n",
    "                        count[1] += 1\n",
    "                    if count[1] < max_train:\n",
    "                        data_train.append(row['Title'])\n",
    "                        label_train.append(row['Tags'])\n",
    "                        count[1] += 1\n",
    "            elif 'c#' in row['Tags']:\n",
    "                if count[2] > (max_train-1) and count[2] < max_test:\n",
    "                    data_test.append(row['Title'])\n",
    "                    label_test.append(row['Tags'])\n",
    "                    count[2] += 1\n",
    "                if count[2] < max_train:\n",
    "                    data_train.append(row['Title'])\n",
    "                    label_train.append(row['Tags'])\n",
    "                    count[2] += 1\n",
    "            elif 'php' in row['Tags']:\n",
    "                if count[3] > (max_train-1) and count[3] < max_test:\n",
    "                    data_test.append(row['Title'])\n",
    "                    label_test.append(row['Tags'])\n",
    "                    count[3] += 1\n",
    "                if count[3] < max_train:\n",
    "                    data_train.append(row['Title'])\n",
    "                    label_train.append(row['Tags'])\n",
    "                    count[3] += 1\n",
    "            elif 'android' in row['Tags']:\n",
    "                if count[4] > (max_train-1) and count[4] < max_test:\n",
    "                    data_test.append(row['Title'])\n",
    "                    label_test.append(row['Tags'])\n",
    "                    count[4] += 1\n",
    "                if count[4] < max_train:\n",
    "                    data_train.append(row['Title'])\n",
    "                    label_train.append(row['Tags'])\n",
    "                    count[4] += 1\n",
    "            elif 'jquery' in row['Tags']:\n",
    "                if count[5] > (max_train-1) and count[5] < max_test:\n",
    "                    data_test.append(row['Title'])\n",
    "                    label_test.append(row['Tags'])\n",
    "                    count[5] += 1\n",
    "                if count[5] < max_train:\n",
    "                    data_train.append(row['Title'])\n",
    "                    label_train.append(row['Tags'])\n",
    "                    count[5] += 1\n",
    "            elif 'c++' in row['Tags']:\n",
    "                if count[6] > (max_train-1) and count[6] < max_test:\n",
    "                    data_test.append(row['Title'])\n",
    "                    label_test.append(row['Tags'])\n",
    "                    count[6] += 1\n",
    "                if count[6] < max_train:\n",
    "                    data_train.append(row['Title'])\n",
    "                    label_train.append(row['Tags'])\n",
    "                    count[6] += 1\n",
    "            elif 'python' in row['Tags']:\n",
    "                if count[7] > (max_train-1) and count[7] < max_test:\n",
    "                    data_test.append(row['Title'])\n",
    "                    label_test.append(row['Tags'])\n",
    "                    count[7] += 1\n",
    "                if count[7] < max_train:\n",
    "                    data_train.append(row['Title'])\n",
    "                    label_train.append(row['Tags'])\n",
    "                    count[7] += 1\n",
    "            elif 'iphone' in row['Tags']:\n",
    "                if count[8] > (max_train-1) and count[8] < max_test:\n",
    "                    data_test.append(row['Title'])\n",
    "                    label_test.append(row['Tags'])\n",
    "                    count[8] += 1\n",
    "                if count[8] < max_train:\n",
    "                    data_train.append(row['Title'])\n",
    "                    label_train.append(row['Tags'])\n",
    "                    count[8] += 1\n",
    "            elif 'asp.net' in row['Tags']:\n",
    "                if count[9] > (max_train-1) and count[9] < max_test:\n",
    "                    data_test.append(row['Title'])\n",
    "                    label_test.append(row['Tags'])\n",
    "                    count[9] += 1\n",
    "                if count[9] < max_train:\n",
    "                    data_train.append(row['Title'])\n",
    "                    label_train.append(row['Tags'])\n",
    "                    count[9] += 1\n",
    "    return data_train, label_train, data_test, label_test\n",
    "\n",
    "(data_train, label_train, data_test, label_test) = load_data(\"Train_Title.csv\", 20000, 25000)\n",
    "print(len(data_train), len(label_train))\n",
    "print(len(data_test),len(label_test))"
   ]
  },
  {
   "cell_type": "code",
   "execution_count": 10,
   "metadata": {},
   "outputs": [
    {
     "name": "stdout",
     "output_type": "stream",
     "text": [
      "(300000, 56704)\n"
     ]
    }
   ],
   "source": [
    "from sklearn.feature_extraction.text import CountVectorizer\n",
    "count_vect = CountVectorizer(stop_words='english',lowercase=True)\n",
    "data_train_count = count_vect.fit_transform(data_train)\n",
    "print(data_train_count.shape)"
   ]
  },
  {
   "cell_type": "code",
   "execution_count": 11,
   "metadata": {},
   "outputs": [
    {
     "name": "stdout",
     "output_type": "stream",
     "text": [
      "(300000, 56704)\n"
     ]
    }
   ],
   "source": [
    "from sklearn.feature_extraction.text import TfidfTransformer\n",
    "tfidf_tranformer = TfidfTransformer(norm='l2')\n",
    "data_train_tfidf = tfidf_tranformer.fit_transform(data_train_count)\n",
    "print(data_train_tfidf.shape)"
   ]
  },
  {
   "cell_type": "code",
   "execution_count": 12,
   "metadata": {
    "collapsed": true
   },
   "outputs": [],
   "source": [
    "from sklearn.naive_bayes import MultinomialNB\n",
    "clf = MultinomialNB().fit(data_train_tfidf, label_train)"
   ]
  },
  {
   "cell_type": "code",
   "execution_count": 13,
   "metadata": {},
   "outputs": [
    {
     "name": "stdout",
     "output_type": "stream",
     "text": [
      "0.59664\n"
     ]
    }
   ],
   "source": [
    "import numpy as np\n",
    "data_test_counts = count_vect.transform(data_test)\n",
    "data_test_tfidf = tfidf_tranformer.transform(data_test_counts)\n",
    "label_new_test = clf.predict(data_test_tfidf)\n",
    "print(np.mean(label_new_test == label_test))"
   ]
  },
  {
   "cell_type": "code",
   "execution_count": 14,
   "metadata": {},
   "outputs": [
    {
     "name": "stdout",
     "output_type": "stream",
     "text": [
      "0.60706\n"
     ]
    }
   ],
   "source": [
    "from sklearn.pipeline import Pipeline\n",
    "from sklearn.linear_model import SGDClassifier\n",
    "text_clf = Pipeline([('vect', CountVectorizer()),\n",
    "                     ('tfidf', TfidfTransformer()),\n",
    "                     ('clf', SGDClassifier(loss='hinge', penalty='l2',\n",
    "                                           alpha=1e-3, random_state=42)),\n",
    "])\n",
    "text_clf.fit(data_train, label_train)\n",
    "label_new_test = text_clf.predict(data_test)\n",
    "print(np.mean(label_new_test == label_test))"
   ]
  },
  {
   "cell_type": "code",
   "execution_count": null,
   "metadata": {
    "collapsed": true
   },
   "outputs": [],
   "source": [
    "from sklearn.svm import SVC\n",
    "clf_SVC = SVC(decision_function_shape='ovo')\n",
    "clf_SVC.fit(data_train_tfidf, label_train)\n",
    "label_new_test = clf_SVC.predict(data_test_tfidf)\n",
    "print(np.mean(label_new_test == label_test))"
   ]
  },
  {
   "cell_type": "code",
   "execution_count": null,
   "metadata": {
    "collapsed": true
   },
   "outputs": [],
   "source": [
    "j = 0\n",
    "for i in range(50000):\n",
    "    if 'python' in label_new_test[i]:\n",
    "            j+= 1\n",
    "print(j)"
   ]
  },
  {
   "cell_type": "code",
   "execution_count": 15,
   "metadata": {},
   "outputs": [
    {
     "name": "stdout",
     "output_type": "stream",
     "text": [
      "0.62378\n"
     ]
    }
   ],
   "source": [
    "from sklearn.svm import SVC\n",
    "clf_SVC = SVC(C = 1.5,kernel='linear', decision_function_shape='ovr', random_state=50)\n",
    "clf_SVC.fit(data_train_tfidf, label_train)\n",
    "label_new_test = clf_SVC.predict(data_test_tfidf)\n",
    "print(np.mean(label_new_test == label_test))"
   ]
  },
  {
   "cell_type": "code",
   "execution_count": 16,
   "metadata": {},
   "outputs": [
    {
     "name": "stdout",
     "output_type": "stream",
     "text": [
      "0.62944\n"
     ]
    }
   ],
   "source": [
    "from sklearn.svm import LinearSVC\n",
    "clf_SVC = LinearSVC(C = 1.0, multi_class='ovr', random_state=50)\n",
    "clf_SVC.fit(data_train_tfidf, label_train)\n",
    "label_new_test= clf_SVC.predict(data_test_tfidf)\n",
    "print(np.mean(label_new_test == label_test))"
   ]
  },
  {
   "cell_type": "code",
   "execution_count": null,
   "metadata": {
    "collapsed": true
   },
   "outputs": [],
   "source": []
  }
 ],
 "metadata": {
  "kernelspec": {
   "display_name": "Python 3",
   "language": "python",
   "name": "python3"
  },
  "language_info": {
   "codemirror_mode": {
    "name": "ipython",
    "version": 3
   },
   "file_extension": ".py",
   "mimetype": "text/x-python",
   "name": "python",
   "nbconvert_exporter": "python",
   "pygments_lexer": "ipython3",
   "version": "3.6.1"
  }
 },
 "nbformat": 4,
 "nbformat_minor": 2
}
