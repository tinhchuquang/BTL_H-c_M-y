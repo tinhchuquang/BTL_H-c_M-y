{
 "cells": [
  {
   "cell_type": "code",
   "execution_count": 2,
   "metadata": {},
   "outputs": [
    {
     "name": "stdout",
     "output_type": "stream",
     "text": [
      "112000 112000\n",
      "48000 48000\n"
     ]
    }
   ],
   "source": [
    "import csv \n",
    "# java-0,javascrip-1,c#-2,php-3,android-4,jquery-5,c++-6,python-7,iphone-8,asp.net-9\n",
    "def load_data(path):\n",
    "    data_train = []\n",
    "    label_train = []\n",
    "    data_test = []\n",
    "    label_test = []\n",
    "    count=[0,0,0,0,0,0,0,0,0,0]\n",
    "    with open(path) as in_file:\n",
    "        reader = csv.DictReader(in_file)\n",
    "        for row in reader:\n",
    "            if 'java' in row['Tags']:\n",
    "                if 'javascrip' not in row['Tags']:\n",
    "                    if count[0] >13999   and count[0] < 20000:\n",
    "                        data_test.append(row['Title'])\n",
    "                        label_test.append(row['Tags'])\n",
    "                        count[0] += 1\n",
    "                    if count[0] < 14000:\n",
    "                        data_train.append(row['Title'])\n",
    "                        label_train.append(row['Tags'])\n",
    "                        count[0] += 1\n",
    "                else:\n",
    "                    if count[1] > 13999 and count[1] < 20000:\n",
    "                        data_test.append(row['Title'])\n",
    "                        label_test.append(row['Tags'])\n",
    "                        count[1] += 1\n",
    "                    if count[1] < 14000:\n",
    "                        data_train.append(row['Title'])\n",
    "                        label_train.append(row['Tags'])\n",
    "                        count[1] += 1\n",
    "            elif 'c#' in row['Tags']:\n",
    "                if count[2] > 13999 and count[2] < 20000:\n",
    "                    data_test.append(row['Title'])\n",
    "                    label_test.append(row['Tags'])\n",
    "                    count[2] += 1\n",
    "                if count[2] < 14000:\n",
    "                    data_train.append(row['Title'])\n",
    "                    label_train.append(row['Tags'])\n",
    "                    count[2] += 1\n",
    "            elif 'php' in row['Tags']:\n",
    "                if count[3] > 13999 and count[3] < 20000:\n",
    "                    data_test.append(row['Title'])\n",
    "                    label_test.append(row['Tags'])\n",
    "                    count[3] += 1\n",
    "                if count[3] < 14000:\n",
    "                    data_train.append(row['Title'])\n",
    "                    label_train.append(row['Tags'])\n",
    "                    count[3] += 1\n",
    "            elif 'android' in row['Tags']:\n",
    "                if count[4] > 13999 and count[4] < 20000:\n",
    "                    data_test.append(row['Title'])\n",
    "                    label_test.append(row['Tags'])\n",
    "                    count[4] += 1\n",
    "                if count[4] < 14000:\n",
    "                    data_train.append(row['Title'])\n",
    "                    label_train.append(row['Tags'])\n",
    "                    count[4] += 1\n",
    "            elif 'jquery' in row['Tags']:\n",
    "                if count[5] > 13999 and count[5] < 20000:\n",
    "                    data_test.append(row['Title'])\n",
    "                    label_test.append(row['Tags'])\n",
    "                    count[5] += 1\n",
    "                if count[5] < 14000:\n",
    "                    data_train.append(row['Title'])\n",
    "                    label_train.append(row['Tags'])\n",
    "                    count[5] += 1\n",
    "            elif 'c++' in row['Tags']:\n",
    "                if count[6] > 6999 and count[6] < 10000:\n",
    "                    data_test.append(row['Title'])\n",
    "                    label_test.append(row['Tags'])\n",
    "                    count[6] += 1\n",
    "                if count[6] < 7000:\n",
    "                    data_train.append(row['Title'])\n",
    "                    label_train.append(row['Tags'])\n",
    "                    count[6] += 1\n",
    "            elif 'python' in row['Tags']:\n",
    "                if count[7] > 6999 and count[7] < 10000:\n",
    "                    data_test.append(row['Title'])\n",
    "                    label_test.append(row['Tags'])\n",
    "                    count[7] += 1\n",
    "                if count[7] < 7000:\n",
    "                    data_train.append(row['Title'])\n",
    "                    label_train.append(row['Tags'])\n",
    "                    count[7] += 1\n",
    "            elif 'iphone' in row['Tags']:\n",
    "                if count[8] > 6999 and count[8] < 10000:\n",
    "                    data_test.append(row['Title'])\n",
    "                    label_test.append(row['Tags'])\n",
    "                    count[8] += 1\n",
    "                if count[8] < 7000:\n",
    "                    data_train.append(row['Title'])\n",
    "                    label_train.append(row['Tags'])\n",
    "                    count[8] += 1\n",
    "            elif 'asp.net' in row['Tags']:\n",
    "                if count[9] > 6999 and count[9] < 10000:\n",
    "                    data_test.append(row['Title'])\n",
    "                    label_test.append(row['Tags'])\n",
    "                    count[9] += 1\n",
    "                if count[9] < 7000:\n",
    "                    data_train.append(row['Title'])\n",
    "                    label_train.append(row['Tags'])\n",
    "                    count[9] += 1\n",
    "    return data_train, label_train, data_test, label_test\n",
    "\n",
    "(data_train, label_train, data_test, label_test) = load_data(\"Train_Title.csv\")\n",
    "print(len(data_train), len(label_train))\n",
    "print(len(data_test),len(label_test))"
   ]
  },
  {
   "cell_type": "code",
   "execution_count": 3,
   "metadata": {
    "collapsed": true
   },
   "outputs": [],
   "source": [
    "def count_element(begin, end, token):\n",
    "    k = 0\n",
    "    for i in range(begin, end):\n",
    "        if token in label_new_test[i]:\n",
    "            k+= 1\n",
    "    return k\n",
    "\n",
    "def count_java(begin, end):\n",
    "    k = 0\n",
    "    for i in range(begin, end):\n",
    "        if 'java' in label_new_test[i]:\n",
    "            if 'javascrip' not in label_new_test[i]:\n",
    "                k+= 1\n",
    "    return k\n"
   ]
  },
  {
   "cell_type": "code",
   "execution_count": 4,
   "metadata": {
    "collapsed": true
   },
   "outputs": [],
   "source": [
    "from sklearn.feature_extraction.text import CountVectorizer\n",
    "def cacalator_count_vect(data_train):\n",
    "    count_vect = CountVectorizer(stop_words=\"english\", lowercase=True)\n",
    "    data_train_count = count_vect.fit_transform(data_train)\n",
    "    return data_train_count, count_vect"
   ]
  },
  {
   "cell_type": "code",
   "execution_count": 5,
   "metadata": {
    "collapsed": true
   },
   "outputs": [],
   "source": [
    "from sklearn.feature_extraction.text import TfidfTransformer\n",
    "def caculator_tfidf(data_train_count):\n",
    "    tfidf_tranformer = TfidfTransformer(norm='l2')\n",
    "    data_train_tfidf = tfidf_tranformer.fit_transform(data_train_count)\n",
    "    return data_train_tfidf,tfidf_tranformer"
   ]
  },
  {
   "cell_type": "code",
   "execution_count": 6,
   "metadata": {
    "collapsed": true
   },
   "outputs": [],
   "source": [
    "import numpy as np\n",
    "def caculator_data_test(data_test, count_vect, tfidf_tranformer):\n",
    "    data_test_counts = count_vect.transform(data_test)\n",
    "    data_test_tfidf = tfidf_tranformer.transform(data_test_counts)\n",
    "    return data_test_tfidf"
   ]
  },
  {
   "cell_type": "code",
   "execution_count": 7,
   "metadata": {
    "collapsed": true
   },
   "outputs": [],
   "source": [
    "import random\n",
    "def random_data( begin, number):\n",
    "    data_knn =[]\n",
    "    label_knn =[]\n",
    "    idx = random.sample(range(number), int(number/10))\n",
    "    for i in range(len(idx)):\n",
    "        data_knn.append(data_train[idx[i]+begin])\n",
    "        label_knn.append(label_train[idx[i]+begin])\n",
    "    return data_knn,label_knn\n",
    "\n",
    "def contructor_knn():\n",
    "    data_all=[]\n",
    "    label_all =[]\n",
    "    data,label = random_data(0, 7000)\n",
    "    data_all = sum([data_all, data], [])\n",
    "    label_all = sum([label_all, label], [])\n",
    "    data,label = random_data(7000, 14000)\n",
    "    data_all = sum([data_all, data], [])\n",
    "    label_all = sum([label_all, label], [])\n",
    "    data,label = random_data(21000, 14000)\n",
    "    data_all = sum([data_all, data], [])\n",
    "    label_all = sum([label_all, label], [])\n",
    "    data,label = random_data(35000, 14000)\n",
    "    data_all = sum([data_all, data], [])\n",
    "    label_all = sum([label_all, label], [])\n",
    "    data,label = random_data(49000, 14000)\n",
    "    data_all = sum([data_all, data], [])\n",
    "    label_all = sum([label_all, label], [])\n",
    "    data,label = random_data(63000, 14000)\n",
    "    data_all = sum([data_all, data], [])\n",
    "    label_all = sum([label_all, label], [])\n",
    "    data,label = random_data(77000, 14000)\n",
    "    data_all = sum([data_all, data], [])\n",
    "    label_all = sum([label_all, label], [])\n",
    "    data,label = random_data(91000, 7000)\n",
    "    data_all = sum([data_all, data], [])\n",
    "    label_all = sum([label_all, label], [])\n",
    "    data,label = random_data(98000, 7000)\n",
    "    data_all = sum([data_all, data], [])\n",
    "    label_all = sum([label_all, label], [])\n",
    "    data,label = random_data(105000, 7000)\n",
    "    data_all = sum([data_all, data], [])\n",
    "    label_all = sum([label_all, label], [])\n",
    "    return data_all, label_all "
   ]
  },
  {
   "cell_type": "code",
   "execution_count": 8,
   "metadata": {},
   "outputs": [
    {
     "data": {
      "image/png": "[encoded data removed]",
      "text/plain": [
       "<matplotlib.figure.Figure at 0x1668cf7fb00>"
      ]
     },
     "metadata": {},
     "output_type": "display_data"
    }
   ],
   "source": [
    "from sklearn.neighbors import KNeighborsClassifier\n",
    "neigh = KNeighborsClassifier(n_neighbors=78, weights='distance', algorithm='auto')\n",
    "data = []\n",
    "iterator = []\n",
    "for i in range(10):\n",
    "    data_train2, label_train2= contructor_knn()\n",
    "    data_train_count, count_vect = cacalator_count_vect(data_train2)\n",
    "    data_train_tfidf, tfidf_tranformer = caculator_tfidf(data_train_count)\n",
    "    neigh.fit(data_train_tfidf, label_train2)\n",
    "    data_test_tfidf = caculator_data_test(data_test,count_vect,tfidf_tranformer)\n",
    "    label_new_test=neigh.predict(data_test_tfidf)\n",
    "    data.append(np.mean(label_new_test ==  label_test))\n",
    "    iterator.append(i)\n",
    "    \n",
    "import matplotlib.pyplot as plt\n",
    "plt.plot(iterator, data, 'r-')\n",
    "plt.ylabel('%accurate')\n",
    "plt.xlabel('iterator')\n",
    "plt.show()\n"
   ]
  },
  {
   "cell_type": "code",
   "execution_count": 9,
   "metadata": {},
   "outputs": [
    {
     "data": {
      "image/png": "[encoded data removed]",
      "text/plain": [
       "<matplotlib.figure.Figure at 0x16692b8b048>"
      ]
     },
     "metadata": {},
     "output_type": "display_data"
    }
   ],
   "source": [
    "for i in range(1):\n",
    "    data_train2, label_train2= contructor_knn()\n",
    "    data_train_count, count_vect = cacalator_count_vect(data_train2)\n",
    "    data_train_tfidf, tfidf_tranformer = caculator_tfidf(data_train_count)\n",
    "    neigh.fit(data_train_tfidf, label_train2)\n",
    "    data_test_tfidf = caculator_data_test(data_test,count_vect,tfidf_tranformer)\n",
    "    label_new_test=neigh.predict(data_test_tfidf)\n",
    "    data.append(np.mean(label_new_test ==  label_test))\n",
    "    iterator.append(i)\n",
    "    \n",
    "import matplotlib.pyplot as plt\n",
    "plt.plot(iterator, data, 'r-')\n",
    "plt.ylabel('%accurate')\n",
    "plt.xlabel('iterator')\n",
    "plt.show()"
   ]
  },
  {
   "cell_type": "code",
   "execution_count": 10,
   "metadata": {
    "collapsed": true
   },
   "outputs": [],
   "source": [
    "c_plus_plus = count_element(0, 3000, 'c++')\n",
    "php = count_element(3000, 9000, 'php')\n",
    "javascrip = count_element(9000, 15000, 'javascrip')\n",
    "java = count_java(15000, 21000)\n",
    "android = count_element(21000, 27000, 'android')\n",
    "jquery = count_element(27000, 33000, 'jquery')\n",
    "c_sharp = count_element(33000, 39000, 'c#')\n",
    "python = count_element(39000, 42000, 'python')\n",
    "iphone = count_element(42000, 45000, 'iphone')\n",
    "asp_net = count_element(45000, 48000, 'asp.net')\n",
    "\n",
    "Y_KNN = np.array([c_plus_plus, php, javascrip, java, android, jquery, python, iphone, asp_net])\n"
   ]
  },
  {
   "cell_type": "code",
   "execution_count": 11,
   "metadata": {},
   "outputs": [
    {
     "name": "stdout",
     "output_type": "stream",
     "text": [
      "[ 575 1501 1211 2737 4420 4293 1217 1175  953]\n"
     ]
    }
   ],
   "source": [
    "print(Y_KNN)"
   ]
  },
  {
   "cell_type": "code",
   "execution_count": null,
   "metadata": {
    "collapsed": true
   },
   "outputs": [],
   "source": []
  }
 ],
 "metadata": {
  "kernelspec": {
   "display_name": "Python 3",
   "language": "python",
   "name": "python3"
  },
  "language_info": {
   "codemirror_mode": {
    "name": "ipython",
    "version": 3
   },
   "file_extension": ".py",
   "mimetype": "text/x-python",
   "name": "python",
   "nbconvert_exporter": "python",
   "pygments_lexer": "ipython3",
   "version": "3.6.2"
  }
 },
 "nbformat": 4,
 "nbformat_minor": 2
}
